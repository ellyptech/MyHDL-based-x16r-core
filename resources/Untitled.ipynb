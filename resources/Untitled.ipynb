{
 "cells": [
  {
   "cell_type": "markdown",
   "metadata": {},
   "source": [
    "# 0:blake"
   ]
  },
  {
   "cell_type": "code",
   "execution_count": 2,
   "metadata": {},
   "outputs": [
    {
     "data": {
      "text/plain": [
       "b'\\xca\\x1eR0u\\xf6\\x04y}DV\\xf1\\xdaY-\\x96\\x1d-:\\xa90`\\x12\\xc9V^\\x9cu\\x1d\\x92\\xbb!\\xa2\\x95\\x15\\x8e\\x96.\\xb1\\xdfU\\x8d\\xd3x\\xd4y\\xbf!\\x9e\\xa2\\xf2\\xfe~\\x8d\\x87\\xbej\\xc8d\\x93o\\xb2\\xdc\\xcb'"
      ]
     },
     "execution_count": 2,
     "metadata": {},
     "output_type": "execute_result"
    }
   ],
   "source": [
    "import hashlib\n",
    "m = hashlib.blake2b()\n",
    "m.update(b\"Mining Raven\")\n",
    "m.digest()"
   ]
  },
  {
   "cell_type": "markdown",
   "metadata": {},
   "source": [
    "# 1:bmw"
   ]
  },
  {
   "cell_type": "code",
   "execution_count": null,
   "metadata": {},
   "outputs": [],
   "source": [
    "import hashlib\n",
    "m = hashlib.lake2b()\n",
    "m.update(b\"Mining Raven\")\n",
    "m.digest()"
   ]
  },
  {
   "cell_type": "markdown",
   "metadata": {},
   "source": [
    "# 2:groestl"
   ]
  },
  {
   "cell_type": "markdown",
   "metadata": {},
   "source": [
    "# 3:jh"
   ]
  },
  {
   "cell_type": "markdown",
   "metadata": {},
   "source": [
    "# 4:keccak"
   ]
  },
  {
   "cell_type": "markdown",
   "metadata": {},
   "source": [
    "# 5:skein"
   ]
  },
  {
   "cell_type": "markdown",
   "metadata": {},
   "source": [
    "# 6:luffa"
   ]
  },
  {
   "cell_type": "markdown",
   "metadata": {},
   "source": [
    "# 7:cubehash"
   ]
  },
  {
   "cell_type": "markdown",
   "metadata": {},
   "source": [
    "# 8:shavite"
   ]
  },
  {
   "cell_type": "markdown",
   "metadata": {},
   "source": [
    "# 9:simd"
   ]
  },
  {
   "cell_type": "markdown",
   "metadata": {},
   "source": [
    "# A:echo"
   ]
  },
  {
   "cell_type": "markdown",
   "metadata": {},
   "source": [
    "# B:hamsi"
   ]
  },
  {
   "cell_type": "markdown",
   "metadata": {},
   "source": [
    "# C:fugue"
   ]
  },
  {
   "cell_type": "markdown",
   "metadata": {},
   "source": [
    "# D:shabal"
   ]
  },
  {
   "cell_type": "markdown",
   "metadata": {},
   "source": [
    "# E:whirlpool"
   ]
  },
  {
   "cell_type": "markdown",
   "metadata": {},
   "source": [
    "# F:sha512"
   ]
  },
  {
   "cell_type": "code",
   "execution_count": null,
   "metadata": {},
   "outputs": [],
   "source": []
  }
 ],
 "metadata": {
  "kernelspec": {
   "display_name": "Python 3",
   "language": "python",
   "name": "python3"
  },
  "language_info": {
   "codemirror_mode": {
    "name": "ipython",
    "version": 3
   },
   "file_extension": ".py",
   "mimetype": "text/x-python",
   "name": "python",
   "nbconvert_exporter": "python",
   "pygments_lexer": "ipython3",
   "version": "3.7.3"
  }
 },
 "nbformat": 4,
 "nbformat_minor": 2
}
